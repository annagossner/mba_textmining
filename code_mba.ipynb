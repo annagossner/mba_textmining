{
  "nbformat": 4,
  "nbformat_minor": 0,
  "metadata": {
    "colab": {
      "provenance": [],
      "authorship_tag": "ABX9TyPalVJg+k0Stx4JfG2+dZSt",
      "include_colab_link": true
    },
    "kernelspec": {
      "name": "python3",
      "display_name": "Python 3"
    },
    "language_info": {
      "name": "python"
    }
  },
  "cells": [
    {
      "cell_type": "markdown",
      "metadata": {
        "id": "view-in-github",
        "colab_type": "text"
      },
      "source": [
        "<a href=\"https://colab.research.google.com/github/annagossner/mba_textmining/blob/main/code_mba.ipynb\" target=\"_parent\"><img src=\"https://colab.research.google.com/assets/colab-badge.svg\" alt=\"Open In Colab\"/></a>"
      ]
    },
    {
      "cell_type": "markdown",
      "source": [
        "# importing liberaries"
      ],
      "metadata": {
        "id": "PkHWEG5WR6Aw"
      }
    },
    {
      "cell_type": "code",
      "execution_count": null,
      "metadata": {
        "id": "XoiQDlL3MGRK"
      },
      "outputs": [],
      "source": [
        "import numpy as np\n",
        "import pandas as pd \n",
        "from sklearn.model_selection import train_test_split\n",
        "\n",
        "import nltk\n",
        "from nltk.corpus import stopwords\n",
        "from nltk.classify import SklearnClassifier\n",
        "\n",
        "from wordcloud import WordCloud,STOPWORDS\n",
        "import matplotlib.pyplot as plt"
      ]
    },
    {
      "cell_type": "markdown",
      "source": [
        "# downloading the data set"
      ],
      "metadata": {
        "id": "90heMXAHSDPF"
      }
    },
    {
      "cell_type": "code",
      "source": [
        "data = pd.read_csv('Sentiment.csv')\n",
        "# Keeping only the neccessary columns\n",
        "data = data[['text','sentiment']]"
      ],
      "metadata": {
        "id": "QZJ_3zZfSB4G"
      },
      "execution_count": null,
      "outputs": []
    },
    {
      "cell_type": "code",
      "source": [
        "# Splitting the dataset into train and test set\n",
        "train, test = train_test_split(data,test_size = 0.1)\n",
        "\n",
        "# Removing neutral sentiments\n",
        "train = train[train.sentiment != \"Neutral\"]"
      ],
      "metadata": {
        "id": "OQy-mm59SShz"
      },
      "execution_count": null,
      "outputs": []
    },
    {
      "cell_type": "code",
      "source": [
        "train_pos = train[ train['sentiment'] == 'Positive']\n",
        "train_pos = train_pos['text']\n",
        "train_neg = train[ train['sentiment'] == 'Negative']\n",
        "train_neg = train_neg['text']\n",
        "\n",
        "def wordcloud_draw(data, color = 'black'):\n",
        "    words = ' '.join(data)\n",
        "    cleaned_word = \" \".join([word for word in words.split()\n",
        "                            if 'http' not in word\n",
        "                                and not word.startswith('@')\n",
        "                                and not word.startswith('#')\n",
        "                                and word != 'RT'\n",
        "                            ])\n",
        "    wordcloud = WordCloud(stopwords=STOPWORDS,\n",
        "                      background_color=color,\n",
        "                      width=2500,\n",
        "                      height=2000\n",
        "                     ).generate(cleaned_word)\n",
        "    plt.figure(1,figsize=(13, 13))\n",
        "    plt.imshow(wordcloud)\n",
        "    plt.axis('off')\n",
        "    plt.show()\n",
        "    \n",
        "print(\"Positive words\")\n",
        "wordcloud_draw(train_pos,'white')\n",
        "print(\"Negative words\")\n",
        "wordcloud_draw(train_neg)"
      ],
      "metadata": {
        "id": "oEFBx0NHSYf2"
      },
      "execution_count": null,
      "outputs": []
    },
    {
      "cell_type": "code",
      "source": [
        "tweets = []\n",
        "stopwords_set = set(stopwords.words(\"english\"))\n",
        "\n",
        "for index, row in train.iterrows():\n",
        "    words_filtered = [e.lower() for e in row.text.split() if len(e) >= 3]\n",
        "    words_cleaned = [word for word in words_filtered\n",
        "        if 'http' not in word\n",
        "        and not word.startswith('@')\n",
        "        and not word.startswith('#')\n",
        "        and word != 'RT']\n",
        "    words_without_stopwords = [word for word in words_cleaned if not word in stopwords_set]\n",
        "    tweets.append((words_without_stopwords, row.sentiment))\n",
        "\n",
        "test_pos = test[ test['sentiment'] == 'Positive']\n",
        "test_pos = test_pos['text']\n",
        "test_neg = test[ test['sentiment'] == 'Negative']\n",
        "test_neg = test_neg['text']"
      ],
      "metadata": {
        "id": "UcajB11nSaE5"
      },
      "execution_count": null,
      "outputs": []
    },
    {
      "cell_type": "code",
      "source": [
        "# Extracting word features\n",
        "def get_words_in_tweets(tweets):\n",
        "    all = []\n",
        "    for (words, sentiment) in tweets:\n",
        "        all.extend(words)\n",
        "    return all\n",
        "\n",
        "def get_word_features(wordlist):\n",
        "    wordlist = nltk.FreqDist(wordlist)\n",
        "    features = wordlist.keys()\n",
        "    return features\n",
        "w_features = get_word_features(get_words_in_tweets(tweets))\n",
        "\n",
        "def extract_features(document):\n",
        "    document_words = set(document)\n",
        "    features = {}\n",
        "    for word in w_features:\n",
        "        features['contains(%s)' % word] = (word in document_words)\n",
        "    return features"
      ],
      "metadata": {
        "id": "ptTxl1ZjSlk4"
      },
      "execution_count": null,
      "outputs": []
    },
    {
      "cell_type": "code",
      "source": [
        "wordcloud_draw(w_features)"
      ],
      "metadata": {
        "id": "6F7BMONmSpZM"
      },
      "execution_count": null,
      "outputs": []
    },
    {
      "cell_type": "code",
      "source": [
        "# Training the Naive Bayes classifier\n",
        "training_set = nltk.classify.apply_features(extract_features,tweets)\n",
        "classifier = nltk.NaiveBayesClassifier.train(training_set)"
      ],
      "metadata": {
        "id": "wQwEJegGSrym"
      },
      "execution_count": null,
      "outputs": []
    },
    {
      "cell_type": "code",
      "source": [
        "neg_cnt = 0\n",
        "pos_cnt = 0\n",
        "for obj in test_neg: \n",
        "    res =  classifier.classify(extract_features(obj.split()))\n",
        "    if(res == 'Negative'): \n",
        "        neg_cnt = neg_cnt + 1\n",
        "for obj in test_pos: \n",
        "    res =  classifier.classify(extract_features(obj.split()))\n",
        "    if(res == 'Positive'): \n",
        "        pos_cnt = pos_cnt + 1\n",
        "        \n",
        "print('[Negative]: %s/%s '  % (len(test_neg),neg_cnt))        \n",
        "print('[Positive]: %s/%s '  % (len(test_pos),pos_cnt)) "
      ],
      "metadata": {
        "id": "fakBEt2XSu62"
      },
      "execution_count": null,
      "outputs": []
    }
  ]
}